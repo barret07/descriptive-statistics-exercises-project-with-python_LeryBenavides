{
    "cells": [
        {
            "cell_type": "markdown",
            "id": "ac622319",
            "metadata": {},
            "source": [
                "# Descriptive statistics problems"
            ]
        },
        {
            "cell_type": "markdown",
            "id": "aa8993e4",
            "metadata": {},
            "source": [
                "### Exercise 1"
            ]
        },
        {
            "cell_type": "markdown",
            "id": "5e0ab0d5",
            "metadata": {},
            "source": [
                "We will use Numpy to obtain information to describe statistically.\n",
                "\n",
                "- Generate an array of 100 elements following a normal distribution.\n",
                "- Generate an array of 100 elements following a chi-square distribution with 3 degrees of freedom.\n",
                "- Calculate the main metrics and statistical measures that best describe the two vectors."
            ]
        },
        {
            "cell_type": "code",
            "execution_count": 2,
            "id": "34720ab6",
            "metadata": {},
            "outputs": [
                {
                    "name": "stdout",
                    "output_type": "stream",
                    "text": [
                        "The MEAN for normal array is: -0.11261207594753748\n",
                        "The MEDIAN for normal array is: -0.1020839249292076\n",
                        "The MODE for normal array is: 0.07256358034631219\n",
                        "The RANGE for normal array is: 5.410901828050221\n",
                        "The VARIANCE for normal array is: 1.135777525598753\n",
                        "The STD for normal array is: 1.0657286360039093\n",
                        "\n",
                        "\n",
                        "The MEAN for chisquare array is: 2.3993532864969764\n",
                        "The MEDIAN for chisquare array is: 1.866135253900309\n",
                        "The MODE for chisquare array is: 0.8970322340575646\n",
                        "The RANGE for chisquare array is: 8.586614994353901\n",
                        "The VARIANCE for chisquare array is: 3.6065996169742576\n",
                        "The STD for chisquare array is: 1.8991049515427676\n"
                    ]
                }
            ],
            "source": [
                "# TODO\n",
                "\n",
                "### MEAN, MEDIAN, MODE, RANGE, VARIANCE, STD, PLOT\n",
                "\n",
                "import statistics as stats\n",
                "import numpy as np\n",
                "\n",
                "array_normal_distribution = np.random.normal (size=100)\n",
                "array_chsq_distribution = np.random.chisquare (3,100)\n",
                "\n",
                "mean_normal = np.mean (array_normal_distribution)\n",
                "median_normal = np.median (array_normal_distribution)\n",
                "mode_normal = stats.mode (array_normal_distribution)\n",
                "range_normal = max(array_normal_distribution) - min(array_normal_distribution)\n",
                "variance_normal = stats.variance (array_normal_distribution)\n",
                "std_normal = stats.stdev(array_normal_distribution)\n",
                "\n",
                "print (f'The MEAN for normal array is: {mean_normal}')\n",
                "print (f'The MEDIAN for normal array is: {median_normal}')\n",
                "print (f'The MODE for normal array is: {mode_normal}')\n",
                "print (f'The RANGE for normal array is: {range_normal}')\n",
                "print (f'The VARIANCE for normal array is: {variance_normal}')\n",
                "print (f'The STD for normal array is: {std_normal}')\n",
                "\n",
                "\n",
                "mean_chsq = np.mean (array_chsq_distribution)\n",
                "median_chsq = np.median (array_chsq_distribution)\n",
                "mode_chsq = stats.mode (array_chsq_distribution)\n",
                "range_chsq = max(array_chsq_distribution) - min(array_chsq_distribution)\n",
                "variance_chsq = stats.variance (array_chsq_distribution)\n",
                "std_chsq = stats.stdev (array_chsq_distribution)\n",
                "\n",
                "print (f'\\n\\nThe MEAN for chisquare array is: {mean_chsq}')\n",
                "print (f'The MEDIAN for chisquare array is: {median_chsq}')\n",
                "print (f'The MODE for chisquare array is: {mode_chsq}')\n",
                "print (f'The RANGE for chisquare array is: {range_chsq}')\n",
                "print (f'The VARIANCE for chisquare array is: {variance_chsq}')\n",
                "print (f'The STD for chisquare array is: {std_chsq}')"
            ]
        },
        {
            "cell_type": "markdown",
            "id": "46c70c3d",
            "metadata": {},
            "source": [
                "### Exercise 2\n",
                "\n",
                "Write a Python program to calculate the standard deviation of the following data:\n",
                "\n",
                "```py\n",
                "data = [4, 2, 5, 8, 6]\n",
                "```"
            ]
        },
        {
            "cell_type": "code",
            "execution_count": 19,
            "id": "d590308e",
            "metadata": {},
            "outputs": [
                {
                    "name": "stdout",
                    "output_type": "stream",
                    "text": [
                        "La desviación estándar con la función directa es: 2\n",
                        "\n",
                        "La desviación estándar con código es: 2\n"
                    ]
                }
            ],
            "source": [
                "# TODO\n",
                "\n",
                "import numpy as np\n",
                "import statistics as stats\n",
                "\n",
                "data = [4, 2, 5, 8, 6]\n",
                "\n",
                "dev = np.std (data,dtype=int)\n",
                "print (\"La desviación estándar con la función directa es:\", dev)\n",
                "\n",
                "\n",
                "#STD CON CODIGO\n",
                "u = np.mean(data,dtype=int)\n",
                "\n",
                "new_data = pow ((data - u), 2)\n",
                "\n",
                "sum = 0\n",
                "for num in new_data:\n",
                "    sum += num\n",
                "\n",
                "final_result = int ((sum/(len(data)))**0.5)\n",
                "print (\"\\nLa desviación estándar con código es:\", final_result)"
            ]
        }
    ],
    "metadata": {
        "interpreter": {
            "hash": "9248718ffe6ce6938b217e69dbcc175ea21f4c6b28a317e96c05334edae734bb"
        },
        "kernelspec": {
            "display_name": "Python 3.9.12 ('ML-BOOTCAMP')",
            "language": "python",
            "name": "python3"
        },
        "language_info": {
            "codemirror_mode": {
                "name": "ipython",
                "version": 3
            },
            "file_extension": ".py",
            "mimetype": "text/x-python",
            "name": "python",
            "nbconvert_exporter": "python",
            "pygments_lexer": "ipython3",
            "version": "3.11.4"
        }
    },
    "nbformat": 4,
    "nbformat_minor": 5
}
